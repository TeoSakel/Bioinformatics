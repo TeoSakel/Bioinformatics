{
 "cells": [
  {
   "cell_type": "markdown",
   "id": "03816eaa-b91f-43ac-b24c-b4daa4d2ada8",
   "metadata": {
    "tags": []
   },
   "source": [
    "## Before we start\n",
    "\n",
    "Read mapping is performed routinely and people have pipelines that you will use 99% of the times.\n",
    "In BigPurple for example the standard pipeline that people use is Igor's\n",
    "[SNS](https://igordot.github.io/sns/). DO NOT go out there and start aligning from scratch!\n",
    "\n",
    "## Required software\n",
    "\n",
    "- [fastqc](https://www.bioinformatics.babraham.ac.uk/projects/fastqc/): qc analysis\n",
    "- [trim-galore](https://github.com/FelixKrueger/TrimGalore): for trimming reads if necessary (requires cutadapt)\n",
    "- [multiqc](https://multiqc.info/): (optional) combine qc analyses\n",
    "- [bwa](https://github.com/lh3/bwa): map reads\n",
    "- [samtools](http://www.htslib.org/): view alingments\n",
    "- [gnu-plot](http://www.gnuplot.info/): (Optional) plot alignment stats\n",
    "- [igv](https://software.broadinstitute.org/software/igv/home): to view the resulting alignments\n",
    "\n",
    "### Local Installation\n",
    "\n",
    "To run this notebook locally you have to install the required software yourself.\n",
    "To do so, first make sure you have added [bioconda](https://bioconda.github.io/) \n",
    "to you conda channels like:\n",
    "\n",
    "```\n",
    "conda config --add channels bioconda\n",
    "```\n",
    "\n",
    "This gives you access to many biology specific packages. \n",
    "Then create and activate a new environment like:\n",
    "\n",
    "```\n",
    "conda create --name bioinfo jupyterlab fastqc trim-galore multiqc bwa samtools gnuplot biopython matplotlib\n",
    "conda activate bioinfo\n",
    "```\n",
    "\n",
    "where I included `jupyterlab` to produce this document.\n",
    "\n",
    "IGV has to be run seperately on your local computer. You can download it \n",
    "[here](https://software.broadinstitute.org/software/igv/). \n",
    "For this notebook, I am going to use `igv-notebook` for demonstration purposes. \n",
    "To install that run `pip install igv-notebook` *after* you have activated the environment or\n",
    "by uncoommenting the corresponding cell below.\n",
    "\n",
    "### On BigPurple\n",
    "\n",
    "If you are on BigPurple, you can reproduce most of the analysis without creating a conda environment by loading the necessary modules.\n",
    "\n",
    "```\n",
    "module load fastqc python/cpu/3.6.5 trimgalore bwa samtools gnuplot\n",
    "```\n",
    "\n",
    "There is no `multiqc` module as far as I can tell."
   ]
  },
  {
   "cell_type": "code",
   "execution_count": null,
   "id": "c11bce60-edf3-4a29-bf46-e9b98f50ffee",
   "metadata": {},
   "outputs": [],
   "source": [
    "# !pip install igv_notebook  #if needed"
   ]
  },
  {
   "cell_type": "code",
   "execution_count": null,
   "id": "2a652ce2-c7c5-4261-bef9-3abdaf850a43",
   "metadata": {},
   "outputs": [],
   "source": [
    "import urllib.request\n",
    "import gzip  # to open fastq.gz\n",
    "from pathlib import Path  # to control files/dim\n",
    "\n",
    "import igv_notebook\n",
    "\n",
    "from Bio import SeqIO\n",
    "\n",
    "# Standard Data Analysis\n",
    "from collections import Counter\n",
    "import numpy as np\n",
    "import matplotlib.pyplot as plt"
   ]
  },
  {
   "cell_type": "markdown",
   "id": "57428a53-eb3c-4c15-b2df-62e156bba930",
   "metadata": {
    "tags": []
   },
   "source": [
    "## Download Data\n",
    "\n",
    "Data from ENCODE [ENCSR000EUA](https://www.encodeproject.org/experiments/ENCSR000EUA/).\n",
    "There is a random sample of 1,000,000 reads from these data stored \n",
    "[here](https://genome.med.nyu.edu/public/tsirigoslab/teaching/bioinformatics/ENCSR000EUA/). \n",
    "If for some reason you want to work with the full set of reads uncomment the appropriate line \n",
    "in the following cell"
   ]
  },
  {
   "cell_type": "code",
   "execution_count": null,
   "id": "b03aa629-043d-456a-bbee-a63f7256da8d",
   "metadata": {},
   "outputs": [],
   "source": [
    "# make directory to store fastq files\n",
    "fastq_dir = Path('fastq')\n",
    "fastq_dir.mkdir(exist_ok=True)\n",
    "\n",
    "# Download fastq files\n",
    "sample_names = ['ENCFF001NQP', 'ENCFF001NQQ']\n",
    "\n",
    "for sam in sample_names:\n",
    "    fq = fastq_dir / Path(sam + '.fastq.gz')\n",
    "    if not fq.exists():\n",
    "        print(f'Downloading {sam}')\n",
    "        file_url = f'https://genome.med.nyu.edu/public/tsirigoslab/teaching/bioinformatics/ENCSR000EUA/{sam}.fastq.gz'\n",
    "        # file_url = f'https://www.encodeproject.org/files/{sam}/@@download/{sam}.fastq.gz'\n",
    "        urllib.request.urlretrieve(file_url, fq)"
   ]
  },
  {
   "cell_type": "code",
   "execution_count": null,
   "id": "5e13493d-f016-40c0-ad63-7656a435881a",
   "metadata": {},
   "outputs": [],
   "source": [
    "# if you get CERTIFICATE_VERIFY_FAILED error run this cell and retry\n",
    "\n",
    "import ssl\n",
    "ssl._create_default_https_context = ssl._create_unverified_context"
   ]
  },
  {
   "cell_type": "markdown",
   "id": "0d5c17b4-bfaf-4d47-8914-ad60a2549f50",
   "metadata": {},
   "source": [
    "For this tutorial we are going to use a sub-sampled versions of these files provided in the course module."
   ]
  },
  {
   "cell_type": "code",
   "execution_count": null,
   "id": "9e1c77be-45e0-4424-86e5-f5ae2c14d2b2",
   "metadata": {},
   "outputs": [],
   "source": [
    "for fq in fastq_dir.iterdir():\n",
    "    print(fq.name)"
   ]
  },
  {
   "cell_type": "markdown",
   "id": "114e1b09-b7f8-432a-ae06-dc0bdbdaeaa5",
   "metadata": {},
   "source": [
    "## FASTQ Quality Control"
   ]
  },
  {
   "cell_type": "code",
   "execution_count": null,
   "id": "61691d42-481a-41b8-8ff8-941211ce1e69",
   "metadata": {},
   "outputs": [],
   "source": [
    "qc_dir = Path('qc') / 'raw'\n",
    "qc_dir.mkdir(exist_ok=True, parents=True)"
   ]
  },
  {
   "cell_type": "code",
   "execution_count": null,
   "id": "0edc3f1f-69f5-46fa-a8b7-892b118526fa",
   "metadata": {
    "tags": []
   },
   "outputs": [],
   "source": [
    "!fastqc --threads 2 --outdir qc/raw fastq/ENCFF001NQP.fastq.gz  fastq/ENCFF001NQQ.fastq.gz"
   ]
  },
  {
   "cell_type": "markdown",
   "id": "ae286604-9057-4c45-9105-942660cbe9d2",
   "metadata": {},
   "source": [
    "The reports are stored under `gc` directory. Links below:\n",
    "\n",
    "- [ENCFF001NQP](./qc/raw/ENCFF001NQP_fastqc.html)\n",
    "- [ENCFF001NQQ](./qc/raw/ENCFF001NQQ_fastqc.html)\n",
    "\n",
    "Description of the different modules [here](https://www.bioinformatics.babraham.ac.uk/projects/fastqc/Help/3%20Analysis%20Modules/)"
   ]
  },
  {
   "cell_type": "markdown",
   "id": "6e422825-1246-43b5-ba70-02cadd034490",
   "metadata": {},
   "source": [
    "Parameters:\n",
    "\n",
    "- `cores`: parallel processing\n",
    "- `phred64`: it's an Illumina 1.5 (see doc or fastqc)\n",
    "- `fastqc`: run again fastqc after\n",
    "- `illumina`: use illumina adapter"
   ]
  },
  {
   "cell_type": "markdown",
   "id": "ac2415ee-de94-499a-900f-02dcbc0ba994",
   "metadata": {},
   "source": [
    "## Trim Reads\n",
    "\n",
    "We are going to trim and filter reads to improve the quality"
   ]
  },
  {
   "cell_type": "code",
   "execution_count": null,
   "id": "ab80dfb3-7f3a-4833-bc15-553a5ad0d63e",
   "metadata": {
    "scrolled": true,
    "tags": []
   },
   "outputs": [],
   "source": [
    "!trim_galore --help"
   ]
  },
  {
   "cell_type": "code",
   "execution_count": null,
   "id": "8d19a775-f71e-4d5f-856b-df1db28a29af",
   "metadata": {},
   "outputs": [],
   "source": [
    "!trim_galore --cores 2 --phred64 --fastqc --max_n 10  --illumina -o qc/clean fastq/ENCFF001NQP.fastq.gz fastq/ENCFF001NQQ.fastq.gz"
   ]
  },
  {
   "cell_type": "markdown",
   "id": "cc09d782-09c3-47ac-adc9-bdc5d2549148",
   "metadata": {},
   "source": [
    "We combine the reports for the new \"cleaned-up\" fastqs using "
   ]
  },
  {
   "cell_type": "code",
   "execution_count": null,
   "id": "e0395ee4-b446-4bba-b565-f50e2db1b626",
   "metadata": {},
   "outputs": [],
   "source": [
    "!multiqc -o qc/clean qc/clean"
   ]
  },
  {
   "cell_type": "markdown",
   "id": "24d1863f-d5df-4fd8-bbe9-3c114e013cd8",
   "metadata": {},
   "source": [
    "The resulting report is [here](qc/clean/multiqc_report.html)"
   ]
  },
  {
   "cell_type": "markdown",
   "id": "999c9f98-1205-465b-a427-f31f06cef35a",
   "metadata": {},
   "source": [
    "#### Re-encoding fastq\n",
    "\n",
    "The data we are dealing with are old, and use the illumina 1.5 Phred64 encoding. \n",
    "We are going to update them to Phred33 which is assumed by most modern software."
   ]
  },
  {
   "cell_type": "code",
   "execution_count": null,
   "id": "f810bedb-2a0b-4fca-9fdc-ac6306476fd0",
   "metadata": {},
   "outputs": [],
   "source": [
    "fq_file = [Path(fq + '_trimmed.fq.gz') for fq in sample_names]\n",
    "fq_dir = Path('fastq-clean')\n",
    "fq_dir.mkdir(exist_ok=True)\n",
    "qc_dir = Path('qc/clean')\n",
    "\n",
    "for fq in fq_file:\n",
    "    with gzip.open(qc_dir/fq, 'rt') as fin, gzip.open(fq_dir/fq, 'wt') as fout:\n",
    "        SeqIO.write(iter(SeqIO.parse(fin, 'fastq-illumina')), fout, 'fastq')\n",
    "    fq = qc_dir/fq\n",
    "    fq.unlink()"
   ]
  },
  {
   "cell_type": "markdown",
   "id": "d5911928-4318-4666-9500-0b9e34f02ca2",
   "metadata": {},
   "source": [
    "## Alignment\n",
    "\n",
    "We are going to use the BWA aligner. The alignment process requires 2 steps:\n",
    "\n",
    "1. Indexing: preprocesses the genome\n",
    "2. Mapping: reads to genome\n",
    "\n",
    "The basic `bwa` commands are shown below"
   ]
  },
  {
   "cell_type": "code",
   "execution_count": null,
   "id": "bce6d057-1fab-45eb-8c7e-fb5f04ae9375",
   "metadata": {},
   "outputs": [],
   "source": [
    "!bwa "
   ]
  },
  {
   "cell_type": "markdown",
   "id": "4e8bb3ee-b9d4-4bd0-830e-9d850db93393",
   "metadata": {},
   "source": [
    "### Indexing\n",
    "\n",
    "1. Decide which genome we are going to map our reads to.\n",
    "2. Download the genome. Possible options \n",
    "   [Ensembl](https://www.ensembl.org/index.html),\n",
    "   [UCSC](https://hgdownload.soe.ucsc.edu/downloads.html),\n",
    "   [iGenome](https://sapac.support.illumina.com/sequencing/sequencing_software/igenome.html)\n",
    "3. Index the genome with `bwa index` in our case\n",
    "\n",
    "Indexing takes time for large genomes (~1h for `mm10`) but it only has to be done once.\n",
    "And for popular genomes you can find pre-computed indexes at iGenome (details\n",
    "[here](http://igenomes.illumina.com.s3-website-us-east-1.amazonaws.com/README.txt)).\n",
    "If you are on BigPurple there are indexes under `/gpfs/data/igorlab/ref/<genome>/<aligner>`\n",
    "(replace `<genome>` and `<aligner>` obviously)\n",
    "\n",
    "The index consists of multiple files all with the same prefix as the genome and different extensions\n",
    "\n",
    "If you want to follow this tutorial exactly, download the reference (`ref`) from [here](https://genome.med.nyu.edu/public/tsirigoslab/teaching/bioinformatics/)"
   ]
  },
  {
   "cell_type": "code",
   "execution_count": null,
   "id": "3e2ab064-4d99-422f-ac86-bc6831843db1",
   "metadata": {},
   "outputs": [],
   "source": [
    "%%bash\n",
    "\n",
    "mkdir -p ref/mm10/BWAIndex\n",
    "\n",
    "# Download reference genome\n",
    "wget -c https://hgdownload.soe.ucsc.edu/goldenPath/mm10/bigZips/latest/mm10.fa.gz\n",
    "mv mm10.fa.gz ref/mm10/genome.fa.gz\n",
    "\n",
    "# create index\n",
    "bwa index -p ref/mm10/BWAIndex/genome ref/mm10/genome.fa.gz\n",
    "\n",
    "# unnecessary...\n",
    "ln -s ../genome.fa.gz ref/mm10/BWAIndex/"
   ]
  },
  {
   "cell_type": "markdown",
   "id": "121e604f-7c66-4f67-986d-045c0d9b85ad",
   "metadata": {},
   "source": [
    "The `ref/mm10` directory should have the following structure"
   ]
  },
  {
   "cell_type": "code",
   "execution_count": null,
   "id": "1eaa6b0c-dc2b-4fbb-8a52-74f9d39fa577",
   "metadata": {},
   "outputs": [],
   "source": [
    "!tree ref/mm10/"
   ]
  },
  {
   "cell_type": "markdown",
   "id": "a69b4aae-578d-4330-9e33-d1d9f54a5ca5",
   "metadata": {},
   "source": [
    "### Mapping\n",
    "\n",
    "Once we have the index we can map the reads quickly. We will use the default option `mem` for mapping. The syntax is\n",
    "\n",
    "```\n",
    "bwa mem index-prefix fastq-1 [fastq-2] > output.sam\n",
    "```"
   ]
  },
  {
   "cell_type": "code",
   "execution_count": null,
   "id": "a77b7739-9d2a-4260-a3ef-14454eb771bd",
   "metadata": {},
   "outputs": [],
   "source": [
    "%%bash\n",
    "\n",
    "prefix=ref/mm10/BWAIndex/genome\n",
    "for fq in fastq-clean/*; do\n",
    "    sam=${fq/%fq.gz/sam}    # change fq.gz to sam\n",
    "    sam=$(basename \"$sam\")  # write in working directory\n",
    "    echo Processing \"$fq\"\n",
    "    bwa mem \"$prefix\" \"$fq\" > \"$sam\"\n",
    "    echo\n",
    "done"
   ]
  },
  {
   "cell_type": "markdown",
   "id": "e2e8a0bd-38f6-4807-98c6-f2a6d677ebd0",
   "metadata": {},
   "source": [
    "### SAM Files\n",
    "\n",
    "#### Header\n",
    "\n",
    "- Contains meta-data that help interpret and reproduce the alignment results.\n",
    "- Header lines start with `@` and are organized as `@TAG:TYPE:VALUE` pairs.\n",
    "  [Tags list](https://samtools.github.io/hts-specs/SAMtags.pdf)\n",
    "\n",
    "Tags here:\n",
    "\n",
    "- `@HQ`: File-level metadata (1 line, the 1st)\n",
    "    + `VN`: Format version\n",
    "    + `SO`: Sorting order of alignments. Valid values: unknown (default), \n",
    "       unsorted, queryname and coordinate.\n",
    "- `@SQ`: Reference sequence dictionary. \n",
    "   The order of `@SQ` lines defines the alignment sorting order.\n",
    "    + `SN`: Reference sequence name (chromosomes here)\n",
    "    + `LN`: Reference sequence length\n",
    "- `@PG`: Program (used to generate thef file)\n",
    "    + `ID`: Program record identifier\n",
    "    + `PN`: Program name\n",
    "    + `PV`: Program Version\n",
    "    + `PP`: Previous @PG-ID. Used to reconstruct the pipeline\n",
    "    + `CL`: Command line\n",
    "\n",
    "\n",
    "#### Body\n",
    "\n",
    "- Rows = alignments \n",
    "- Columns = Alignment features\n",
    "\n",
    "The mandatory columns are:\n",
    "\n",
    "1.  `QNAME` the name of the read (query). Taken from fastq header line.\n",
    "2.  `FLAGS` a number that in binary form answer some yes/no questions about the alingment.\n",
    "    You can interpret the number [here](https://broadinstitute.github.io/picard/explain-flags.html)\n",
    "3.  `RNAME` the name of the reference sequence\n",
    "4.  `POS` the 1-based start position of alignment.\n",
    "5.  `MAPQ` MAPping (aka alignment) Quality score (Phred scale). Originally developed for\n",
    "    the [MAQ aligner](https://genome.cshlp.org/content/suppl/2008/09/26/gr.078212.108.DC1/maq-supp.pdf)\n",
    "    but each aligner can estimate it differently.\n",
    "6.  `CIGAR` (Concise Idiosyncratic Gapped Alignment Report) a compressed (RLE) \n",
    "    representation of the alignment.\n",
    "7.  `RNEXT` only relevant for paired-end reads; `RNAME` of mate read\n",
    "8.  `PNEXT` only relevant for paired-end reads; `POS` of mate read\n",
    "9.  `TLEN` only relevant for paired-end reads; fragment length inferred from alignment\n",
    "10. `SEQ` sequence (or reverse complement if the read is aligned to the reverse strand), aka 2nd line of fastq-entry.\n",
    "11. `QUAL` quality sequence aka 4th line of fastq-entry\n",
    "\n",
    "\n",
    "The first 40 lines of the file are shown below"
   ]
  },
  {
   "cell_type": "code",
   "execution_count": null,
   "id": "9747631d-a561-4b17-900b-97c20703d368",
   "metadata": {
    "scrolled": true,
    "tags": []
   },
   "outputs": [],
   "source": [
    "!head -40 ENCFF001NQP_trimmed.sam"
   ]
  },
  {
   "cell_type": "markdown",
   "id": "8f6eb4ed-4048-45f9-8e38-4c928919b110",
   "metadata": {
    "tags": []
   },
   "source": [
    "#### Sort, Compress, and Index\n",
    "\n",
    "- **Sort**: arrange alignments by order of appearance (`chr1` to `chrY` and position `1` to `LN`)\n",
    "- **Compress**: SAM to BAM to save space\n",
    "- **Index**: generate a BAM index for fast random access (to view with IGV later)"
   ]
  },
  {
   "cell_type": "code",
   "execution_count": null,
   "id": "e563a83f-3d88-47ae-afdb-1c62687657f6",
   "metadata": {},
   "outputs": [],
   "source": [
    "%%bash\n",
    "\n",
    "for sam in *.sam; do\n",
    "    echo Processing \"$sam\"\n",
    "    bam=${sam%.sam}.bam\n",
    "    samtools view -h -b -S \"$sam\" | samtools sort > \"$bam\"\n",
    "    samtools index \"$bam\"\n",
    "done"
   ]
  },
  {
   "cell_type": "markdown",
   "id": "521c8f28-c1f3-4614-a7d2-c542060e6941",
   "metadata": {
    "tags": []
   },
   "source": [
    "### Alignment Stats"
   ]
  },
  {
   "cell_type": "markdown",
   "id": "cad2aa09-7706-437c-98db-039f6cc28777",
   "metadata": {},
   "source": [
    "[samtools-flagstats](http://www.htslib.org/doc/samtools-flagstat.html)"
   ]
  },
  {
   "cell_type": "code",
   "execution_count": null,
   "id": "7bec759c-3a5b-42ee-8d1a-c932f7300f2a",
   "metadata": {},
   "outputs": [],
   "source": [
    "!samtools flagstats ENCFF001NQP_trimmed.bam"
   ]
  },
  {
   "cell_type": "markdown",
   "id": "2e95b126-3040-4a29-a947-4e76c372ef27",
   "metadata": {},
   "source": [
    "[samtools-stats](http://www.htslib.org/doc/samtools-stats.html)"
   ]
  },
  {
   "cell_type": "code",
   "execution_count": null,
   "id": "379c6dc9-b1a3-456e-9caa-090dba7fa07f",
   "metadata": {},
   "outputs": [],
   "source": [
    "!samtools stats ENCFF001NQP_trimmed.bam > qc/clean/ENCFF001NQP_trimmed.bam.stats"
   ]
  },
  {
   "cell_type": "code",
   "execution_count": null,
   "id": "4ea4a6cd-6631-46c6-b465-e030ac7197a2",
   "metadata": {},
   "outputs": [],
   "source": [
    "!grep '^SN' qc/clean/ENCFF001NQP_trimmed.bam.stats  # grep summary"
   ]
  },
  {
   "cell_type": "markdown",
   "id": "5b091657-b8e5-48c6-a0f6-fdc2bbbcdd24",
   "metadata": {},
   "source": [
    "And a report can be generated with `plot-bamstats` if you have `gnuplot`"
   ]
  },
  {
   "cell_type": "code",
   "execution_count": null,
   "id": "838ec707-0581-4e39-9c8a-f92a2f8151fc",
   "metadata": {},
   "outputs": [],
   "source": [
    "!plot-bamstats -p qc/aln/ qc/clean/ENCFF001NQP_trimmed.bam.stats"
   ]
  },
  {
   "cell_type": "markdown",
   "id": "07fa7252-aec4-4244-b8c6-23e1dbf2c55e",
   "metadata": {},
   "source": [
    "Results can be viewed [here](qc/aln/index.html). For a detailed descriptions see \n",
    "[samtools stats](http://www.htslib.org/doc/samtools-stats.htmlhttp://www.htslib.org/doc/samtools-stats.html)"
   ]
  },
  {
   "cell_type": "markdown",
   "id": "c06ba5b6-1661-4364-8757-995050685381",
   "metadata": {},
   "source": [
    "## Viewing Alignment\n",
    "\n",
    "IGV Alignments: https://software.broadinstitute.org/software/igv/AlignmentData"
   ]
  },
  {
   "cell_type": "code",
   "execution_count": null,
   "id": "786d9ff8-7adb-4e58-a18a-9cd18b9fb1d6",
   "metadata": {
    "tags": []
   },
   "outputs": [],
   "source": [
    "igv_notebook.init()\n",
    "\n",
    "b = igv_notebook.Browser(\n",
    "    {\n",
    "        \"genome\": \"mm10\",\n",
    "        \"locus\": \"chr2:98,661,570-98,667,811\"\n",
    "    }\n",
    ")\n",
    "\n",
    "\n",
    "b.load_track(\n",
    "    {\n",
    "        \"name\": \"ENCFF001NQQ\",\n",
    "        \"url\": \"/ENCFF001NQQ_trimmed.bam\",\n",
    "        \"indexURL\": \"/ENCFF001NQQ_trimmed.bam.bai\",\n",
    "        \"format\": \"bam\",\n",
    "        \"type\": \"alignment\"\n",
    "    })\n",
    "\n",
    "\n",
    "b.load_track(\n",
    "    {\n",
    "        \"name\": \"ENCFF001NQP\",\n",
    "        \"url\": \"/ENCFF001NQP_trimmed.bam\",\n",
    "        \"indexURL\": \"/ENCFF001NQP_trimmed.bam.bai\",\n",
    "        \"format\": \"bam\",\n",
    "        \"type\": \"alignment\"\n",
    "    })\n",
    "b.zoom_in()"
   ]
  },
  {
   "cell_type": "markdown",
   "id": "7022c0d4-7738-4337-b22c-cd6ab565e450",
   "metadata": {},
   "source": [
    "Color Legend:\n",
    "\n",
    "- If a nucleotide differs from the reference sequence in greater than 20% of quality weighted\n",
    "  reads, IGV colors the bar in proportion to the read count of each base \n",
    "  (<span style='color:green;font-weight:bold'>A</span> , \n",
    "   <span style='color:blue;font-weight:bold'>C</span> , \n",
    "   <span style='color:orange;font-weight:bold'>G</span> , \n",
    "   <span style='color:red;font-weight:bold'>T</span> ).\n",
    "- ![](https://software.broadinstitute.org/software/igv/sites/cancerinformatics.org.igv/files/images/insert_lrgr.jpg): for an inferred insert size that is larger than expected (possible evidence of a deletion)\n",
    "- ![](https://software.broadinstitute.org/software/igv/sites/cancerinformatics.org.igv/files/images/insert_smlr.jpg): for an inferred insert size that is smaller than expected (possible evidence of an insertion)\n",
    "- ![](https://software.broadinstitute.org/software/igv/sites/cancerinformatics.org.igv/files/images/chromosomecolors.jpg): for paired end reads that are coded by the chromosome on which their mates can be found\n",
    "\n",
    "We observe a lot of low quality alignemnts (white boxes). We can filter them out"
   ]
  },
  {
   "cell_type": "markdown",
   "id": "ee7d328d-6f19-423d-801b-fb322ac70136",
   "metadata": {},
   "source": [
    "### Filtering \n",
    "\n",
    "There are many low quality reads `MAPQ=0` as we saw. Below is the distribution of MAPQ"
   ]
  },
  {
   "cell_type": "code",
   "execution_count": null,
   "id": "2ea18ad3-e6dd-4bed-9e93-af3a8db9de87",
   "metadata": {},
   "outputs": [],
   "source": [
    "!samtools view ENCFF001NQQ_trimmed.bam | cut -f5 | sort | uniq -c | sed 's/ *//' > tmp.txt"
   ]
  },
  {
   "cell_type": "code",
   "execution_count": null,
   "id": "70e9aa6c-3049-41c2-a345-6eb86ae3b53a",
   "metadata": {},
   "outputs": [],
   "source": [
    "mapq = np.loadtxt('tmp.txt')\n",
    "mapq = mapq[np.argsort(mapq[:,1]),:]\n",
    "plt.plot(mapq[:,1], mapq[:,0])\n",
    "plt.show()"
   ]
  },
  {
   "cell_type": "markdown",
   "id": "120301f9-507d-4834-bf5d-0172a9d21a72",
   "metadata": {},
   "source": [
    "We can remove them with `samtools view -q`"
   ]
  },
  {
   "cell_type": "code",
   "execution_count": null,
   "id": "3f820fb8-eeae-45e5-850a-d706bf23b0b0",
   "metadata": {
    "tags": []
   },
   "outputs": [],
   "source": [
    "%%bash\n",
    "\n",
    "# -q: quality filter\n",
    "# -h: include header\n",
    "# -b: export bam\n",
    "\n",
    "for f in *.bam; do\n",
    "    echo Processing \"$f\"\n",
    "    bam=${f%.bam}_q30.bam\n",
    "    samtools view -h -b -q 30 \"$f\" > \"$bam\"\n",
    "    samtools index \"$bam\"\n",
    "done"
   ]
  },
  {
   "cell_type": "markdown",
   "id": "ff03890e-a5a2-4c43-a31b-e1f95e100433",
   "metadata": {},
   "source": [
    "And now the IGV session should be clean"
   ]
  },
  {
   "cell_type": "code",
   "execution_count": null,
   "id": "f7139806-4fb6-4ef0-a417-cd800b1e9a8e",
   "metadata": {
    "tags": []
   },
   "outputs": [],
   "source": [
    "igv_notebook.init()\n",
    "\n",
    "b = igv_notebook.Browser(\n",
    "    {\n",
    "        \"genome\": \"mm10\",\n",
    "        \"locus\": \"chr2:98,661,570-98,667,811\"\n",
    "    }\n",
    ")\n",
    "\n",
    "\n",
    "b.load_track(\n",
    "    {\n",
    "        \"name\": \"ENCFF001NQQ\",\n",
    "        \"url\": \"/ENCFF001NQQ_trimmed_q30.bam\",\n",
    "        \"indexURL\": \"/ENCFF001NQQ_trimmed_q30.bam.bai\",\n",
    "        \"format\": \"bam\",\n",
    "        \"type\": \"alignment\"\n",
    "    })\n",
    "\n",
    "\n",
    "b.load_track(\n",
    "    {\n",
    "        \"name\": \"ENCFF001NQP\",\n",
    "        \"url\": \"/ENCFF001NQP_trimmed_q30.bam\",\n",
    "        \"indexURL\": \"/ENCFF001NQP_trimmed_q30.bam.bai\",\n",
    "        \"format\": \"bam\",\n",
    "        \"type\": \"alignment\"\n",
    "    })\n",
    "b.zoom_in()"
   ]
  }
 ],
 "metadata": {
  "kernelspec": {
   "display_name": "Python 3 (ipykernel)",
   "language": "python",
   "name": "python3"
  },
  "language_info": {
   "codemirror_mode": {
    "name": "ipython",
    "version": 3
   },
   "file_extension": ".py",
   "mimetype": "text/x-python",
   "name": "python",
   "nbconvert_exporter": "python",
   "pygments_lexer": "ipython3",
   "version": "3.9.13"
  }
 },
 "nbformat": 4,
 "nbformat_minor": 5
}
